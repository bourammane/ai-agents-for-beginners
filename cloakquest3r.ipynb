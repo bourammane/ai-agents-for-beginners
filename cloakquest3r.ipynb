{
  "nbformat": 4,
  "nbformat_minor": 0,
  "metadata": {
    "colab": {
      "provenance": [],
      "include_colab_link": true
    },
    "kernelspec": {
      "name": "python3",
      "display_name": "Python 3"
    },
    "language_info": {
      "name": "python"
    }
  },
  "cells": [
    {
      "cell_type": "markdown",
      "metadata": {
        "id": "view-in-github",
        "colab_type": "text"
      },
      "source": [
        "<a href=\"https://colab.research.google.com/github/bourammane/ai-agents-for-beginners/blob/main/cloakquest3r.ipynb\" target=\"_parent\"><img src=\"https://colab.research.google.com/assets/colab-badge.svg\" alt=\"Open In Colab\"/></a>"
      ]
    },
    {
      "cell_type": "code",
      "execution_count": 1,
      "metadata": {
        "colab": {
          "base_uri": "https://localhost:8080/"
        },
        "id": "TIsiOFgBBles",
        "outputId": "eadbf012-26c1-40a8-973b-57e3290e79d3"
      },
      "outputs": [
        {
          "output_type": "stream",
          "name": "stdout",
          "text": [
            "Cloning into 'CloakQuest3r'...\n",
            "remote: Enumerating objects: 243, done.\u001b[K\n",
            "remote: Counting objects: 100% (118/118), done.\u001b[K\n",
            "remote: Compressing objects: 100% (60/60), done.\u001b[K\n",
            "remote: Total 243 (delta 101), reused 58 (delta 58), pack-reused 125 (from 1)\u001b[K\n",
            "Receiving objects: 100% (243/243), 1.14 MiB | 5.36 MiB/s, done.\n",
            "Resolving deltas: 100% (135/135), done.\n"
          ]
        }
      ],
      "source": [
        "! git clone https://github.com/spyboy-productions/CloakQuest3r.git"
      ]
    },
    {
      "cell_type": "code",
      "source": [
        "cd CloakQuest3r"
      ],
      "metadata": {
        "colab": {
          "base_uri": "https://localhost:8080/"
        },
        "id": "8sk7FSkHB3Ka",
        "outputId": "7b7416b2-79c1-4a88-b9ed-1b2c2032ab91"
      },
      "execution_count": 2,
      "outputs": [
        {
          "output_type": "stream",
          "name": "stdout",
          "text": [
            "/content/CloakQuest3r\n"
          ]
        }
      ]
    },
    {
      "cell_type": "code",
      "source": [
        "!pip install -r requirements.txt"
      ],
      "metadata": {
        "colab": {
          "base_uri": "https://localhost:8080/"
        },
        "id": "sRZIKUz9B5a9",
        "outputId": "d3f0e6c0-dd7d-47c9-fd7f-914ffb7e637b"
      },
      "execution_count": 3,
      "outputs": [
        {
          "output_type": "stream",
          "name": "stdout",
          "text": [
            "Requirement already satisfied: requests in /usr/local/lib/python3.11/dist-packages (from -r requirements.txt (line 1)) (2.32.3)\n",
            "Collecting colorama (from -r requirements.txt (line 2))\n",
            "  Downloading colorama-0.4.6-py2.py3-none-any.whl.metadata (17 kB)\n",
            "Collecting bs4 (from -r requirements.txt (line 3))\n",
            "  Downloading bs4-0.0.2-py2.py3-none-any.whl.metadata (411 bytes)\n",
            "Requirement already satisfied: cryptography in /usr/local/lib/python3.11/dist-packages (from -r requirements.txt (line 4)) (43.0.3)\n",
            "Requirement already satisfied: charset-normalizer<4,>=2 in /usr/local/lib/python3.11/dist-packages (from requests->-r requirements.txt (line 1)) (3.4.2)\n",
            "Requirement already satisfied: idna<4,>=2.5 in /usr/local/lib/python3.11/dist-packages (from requests->-r requirements.txt (line 1)) (3.10)\n",
            "Requirement already satisfied: urllib3<3,>=1.21.1 in /usr/local/lib/python3.11/dist-packages (from requests->-r requirements.txt (line 1)) (2.4.0)\n",
            "Requirement already satisfied: certifi>=2017.4.17 in /usr/local/lib/python3.11/dist-packages (from requests->-r requirements.txt (line 1)) (2025.4.26)\n",
            "Requirement already satisfied: beautifulsoup4 in /usr/local/lib/python3.11/dist-packages (from bs4->-r requirements.txt (line 3)) (4.13.4)\n",
            "Requirement already satisfied: cffi>=1.12 in /usr/local/lib/python3.11/dist-packages (from cryptography->-r requirements.txt (line 4)) (1.17.1)\n",
            "Requirement already satisfied: pycparser in /usr/local/lib/python3.11/dist-packages (from cffi>=1.12->cryptography->-r requirements.txt (line 4)) (2.22)\n",
            "Requirement already satisfied: soupsieve>1.2 in /usr/local/lib/python3.11/dist-packages (from beautifulsoup4->bs4->-r requirements.txt (line 3)) (2.7)\n",
            "Requirement already satisfied: typing-extensions>=4.0.0 in /usr/local/lib/python3.11/dist-packages (from beautifulsoup4->bs4->-r requirements.txt (line 3)) (4.14.0)\n",
            "Downloading colorama-0.4.6-py2.py3-none-any.whl (25 kB)\n",
            "Downloading bs4-0.0.2-py2.py3-none-any.whl (1.2 kB)\n",
            "Installing collected packages: colorama, bs4\n",
            "Successfully installed bs4-0.0.2 colorama-0.4.6\n"
          ]
        }
      ]
    },
    {
      "cell_type": "code",
      "source": [
        "!python cloakquest3r.py https://agence2b.solutions/"
      ],
      "metadata": {
        "colab": {
          "base_uri": "https://localhost:8080/"
        },
        "id": "lMMSxCGYB7Ka",
        "outputId": "5b20e93c-d366-48bc-b508-cdc2837b5e36"
      },
      "execution_count": 4,
      "outputs": [
        {
          "output_type": "stream",
          "name": "stdout",
          "text": [
            "\u001b[31m\n",
            "   ___ _             _      ____                 _   _____\n",
            "  / __\\ | ___   __ _| | __ /___ \\_   _  ___  ___| |_|___ / _ __\n",
            " / /  | |/ _ \\ / _` | |/ ///  / / | | |/ _ \\/ __| __| |_ \\| '__|\n",
            "/ /___| | (_) | (_| |   </ \\_/ /| |_| |  __/\\__ \\ |_ ___) | |\n",
            "\\____/|_|\\___/ \\__,_|_|\\_\\___,_\\ \\__,_|\\___||___/\\__|____/|_|\n",
            "Uncover the true IP address of websites safeguarded by Cloudflare & ohers.\n",
            "\u001b[0m\n",
            "\n",
            "\u001b[32m[+] \u001b[33mVersion      : \u001b[0m1.0.5\n",
            "\u001b[32m[+] \u001b[33mCreated By   : \u001b[0mSpyboy\n",
            "\u001b[32m └➤ \u001b[33mTwitter      : \u001b[0mhttps://spyboy.in/twitter\n",
            "\u001b[32m └➤ \u001b[33mDiscord      : \u001b[0mhttps://spyboy.in/Discord\n",
            "\u001b[32m └➤ \u001b[33mWebsite      : \u001b[0mhttps://spyboy.in/\n",
            "\u001b[32m └➤ \u001b[33mBlog         : \u001b[0mhttps://spyboy.blog/\n",
            "\u001b[32m └➤ \u001b[33mGithub       : \u001b[0mhttps://github.com/spyboy-productions/CloakQuest3r\n",
            "\n",
            "\n",
            "\u001b[32m[!] \u001b[36mChecking if the website uses Cloudflare\u001b[39m\n",
            "\n",
            "\n",
            "\u001b[31mTarget Website: \u001b[0magence2b.solutions\n",
            "\u001b[31mVisible IP Address: \u001b[0m34.120.137.41\n",
            "\n",
            "\n",
            "[!] \u001b[36mSecurityTrails\u001b[31m API Key not found in config.ini file\u001b[39m\n",
            "\n",
            "\u001b[31mPlease add your \u001b[36mSecurityTrails\u001b[31m API Key in config.ini file\u001b[39m\n",
            "\n",
            "\u001b[32m[+] \u001b[33mScanning for subdomains.\u001b[39m\n",
            "\n",
            "\u001b[32m[+] \u001b[36mDownloading an updated wordlist from \u001b[32mSecLists\u001b[39m\n",
            "\u001b[32m[+] \u001b[36mWordlist downloaded successfully as \u001b[32mwordlist.txt\u001b[39m\n",
            "\n",
            "\u001b[36m> Do you have a custom wordlist for subdomain scanning? \u001b[32m(yes/no): no\n",
            "\n",
            "\u001b[33mStarting threads...\n",
            "\u001b[32mSubdomain Found └➤ https://www.agence2b.solutions\u001b[39m\n",
            "\n",
            "\u001b[32m └➤ \u001b[36mTotal Subdomains Scanned:\u001b[0m 4989\n",
            "\u001b[32m └➤ \u001b[36mTotal Subdomains Found:\u001b[0m 1\n",
            "\u001b[32m └➤ \u001b[36mTime taken:\u001b[0m 14.33 seconds\n",
            "\n",
            "\u001b[33m[+] \u001b[36mReal IP Address of \u001b[32mwww.agence2b.solutions:\u001b[31m 34.120.137.41\n",
            "\u001b[31m   [+] \u001b[36mSSL Certificate Information:\n",
            "\u001b[31m      └➤ \u001b[36mCommon Name:\u001b[0m www.agence2b.solutions\n",
            "\u001b[31m      └➤ \u001b[36mIssuer:\u001b[0m E5\n",
            "\u001b[31m      └➤ \u001b[36mValidity Start:\u001b[0m 2025-04-20 00:33:49+00:00\n",
            "\u001b[31m      └➤ \u001b[36mValidity End:\u001b[0m 2025-07-19 00:33:48+00:00\n",
            "\n",
            "Task Complete!!\n",
            "\n",
            "\u001b[0m"
          ]
        }
      ]
    }
  ]
}